{
 "cells": [
  {
   "cell_type": "markdown",
   "metadata": {},
   "source": [
    "## Final Project : NoteBook\n",
    "## Proposal :\n",
    "\n",
    "**The Data 601 Final Project is an analysis of two (or more) data sets to address one or more hypotheses and one or more questions about the combined data.**\n",
    "\n",
    "**DATA SOURCE:** https://umbc.box.com/s/uhqmqlq6lkmfpzzcv8gxsvhtkvek5qq1\n",
    "## Solution :\n",
    "\n",
    "**importing the necessary libraries**"
   ]
  },
  {
   "cell_type": "code",
   "execution_count": 1,
   "metadata": {
    "id": "pc90uVFcBSwp"
   },
   "outputs": [],
   "source": [
    "import warnings\n",
    "warnings.filterwarnings('ignore')\n",
    "\n",
    "import pandas as pd\n",
    "import matplotlib.pyplot as plt\n",
    "import seaborn as sns\n",
    "import statsmodels.api as sm"
   ]
  },
  {
   "cell_type": "markdown",
   "metadata": {},
   "source": [
    "**loading datasets**"
   ]
  },
  {
   "cell_type": "code",
   "execution_count": 2,
   "metadata": {
    "id": "TaesHlOlBWOz"
   },
   "outputs": [],
   "source": [
    "# reading the 2 datasets\n",
    "main_df = pd.read_excel('6481b945-7549-44e5-a65b-8b8eb8b92c87.xlsx', sheet_name = 'Sheet1')\n",
    "df2 = pd.read_excel('39c00379-17c1-4120-96b7-fa372e26f8f0.xlsx', sheet_name = 'Sheet1')"
   ]
  },
  {
   "cell_type": "markdown",
   "metadata": {
    "id": "BbRtyujAXDan"
   },
   "source": [
    "## Merging two datasets to analyse the combined data"
   ]
  },
  {
   "cell_type": "code",
   "execution_count": 3,
   "metadata": {
    "id": "zYqKyQmMBkm6"
   },
   "outputs": [],
   "source": [
    "# combining the 2 datasets using left join i.e., including all Inspection IDs of the main_df\n",
    "data = pd.merge(main_df, df2, how = 'left', on = ['Inspection ID', 'FEI Number', 'Legal Name', 'Inspection End Date'])"
   ]
  },
  {
   "cell_type": "code",
   "execution_count": 4,
   "metadata": {
    "colab": {
     "base_uri": "https://localhost:8080/",
     "height": 634
    },
    "id": "kPT_u8mECigs",
    "outputId": "31096193-c669-425b-9549-bda4c1878225"
   },
   "outputs": [
    {
     "data": {
      "text/html": [
       "<div>\n",
       "<style scoped>\n",
       "    .dataframe tbody tr th:only-of-type {\n",
       "        vertical-align: middle;\n",
       "    }\n",
       "\n",
       "    .dataframe tbody tr th {\n",
       "        vertical-align: top;\n",
       "    }\n",
       "\n",
       "    .dataframe thead th {\n",
       "        text-align: right;\n",
       "    }\n",
       "</style>\n",
       "<table border=\"1\" class=\"dataframe\">\n",
       "  <thead>\n",
       "    <tr style=\"text-align: right;\">\n",
       "      <th></th>\n",
       "      <th>FEI Number</th>\n",
       "      <th>Legal Name</th>\n",
       "      <th>City</th>\n",
       "      <th>State</th>\n",
       "      <th>Zip</th>\n",
       "      <th>Country/Area</th>\n",
       "      <th>Fiscal Year</th>\n",
       "      <th>Inspection ID</th>\n",
       "      <th>Posted Citations</th>\n",
       "      <th>Inspection End Date</th>\n",
       "      <th>Classification</th>\n",
       "      <th>Project Area</th>\n",
       "      <th>Product Type</th>\n",
       "      <th>FMD-145 Date</th>\n",
       "      <th>Program Area</th>\n",
       "      <th>Act/CFR Number</th>\n",
       "      <th>Short Description</th>\n",
       "      <th>Long Description</th>\n",
       "    </tr>\n",
       "  </thead>\n",
       "  <tbody>\n",
       "    <tr>\n",
       "      <th>0</th>\n",
       "      <td>3017202975</td>\n",
       "      <td>PAVmed Inc.</td>\n",
       "      <td>Foxboro</td>\n",
       "      <td>Massachusetts</td>\n",
       "      <td>02035</td>\n",
       "      <td>United States</td>\n",
       "      <td>2022</td>\n",
       "      <td>1167299</td>\n",
       "      <td>Yes</td>\n",
       "      <td>2022-04-15</td>\n",
       "      <td>Voluntary Action Indicated (VAI)</td>\n",
       "      <td>Compliance: Devices</td>\n",
       "      <td>Devices</td>\n",
       "      <td>-</td>\n",
       "      <td>Devices</td>\n",
       "      <td>21 CFR 820.100(b)</td>\n",
       "      <td>Documentation</td>\n",
       "      <td>Corrective and preventive action activities an...</td>\n",
       "    </tr>\n",
       "    <tr>\n",
       "      <th>1</th>\n",
       "      <td>3017202975</td>\n",
       "      <td>PAVmed Inc.</td>\n",
       "      <td>Foxboro</td>\n",
       "      <td>Massachusetts</td>\n",
       "      <td>02035</td>\n",
       "      <td>United States</td>\n",
       "      <td>2022</td>\n",
       "      <td>1167299</td>\n",
       "      <td>Yes</td>\n",
       "      <td>2022-04-15</td>\n",
       "      <td>Voluntary Action Indicated (VAI)</td>\n",
       "      <td>Compliance: Devices</td>\n",
       "      <td>Devices</td>\n",
       "      <td>-</td>\n",
       "      <td>Devices</td>\n",
       "      <td>21 CFR 820.198(a)</td>\n",
       "      <td>Lack of or inadequate complaint procedures</td>\n",
       "      <td>Procedures for receiving, reviewing, and evalu...</td>\n",
       "    </tr>\n",
       "    <tr>\n",
       "      <th>2</th>\n",
       "      <td>3017202975</td>\n",
       "      <td>PAVmed Inc.</td>\n",
       "      <td>Foxboro</td>\n",
       "      <td>Massachusetts</td>\n",
       "      <td>02035</td>\n",
       "      <td>United States</td>\n",
       "      <td>2022</td>\n",
       "      <td>1167299</td>\n",
       "      <td>Yes</td>\n",
       "      <td>2022-04-15</td>\n",
       "      <td>No Action Indicated (NAI)</td>\n",
       "      <td>Postmarket Assurance: Devices</td>\n",
       "      <td>Devices</td>\n",
       "      <td>-</td>\n",
       "      <td>Devices</td>\n",
       "      <td>21 CFR 820.100(b)</td>\n",
       "      <td>Documentation</td>\n",
       "      <td>Corrective and preventive action activities an...</td>\n",
       "    </tr>\n",
       "    <tr>\n",
       "      <th>3</th>\n",
       "      <td>3017202975</td>\n",
       "      <td>PAVmed Inc.</td>\n",
       "      <td>Foxboro</td>\n",
       "      <td>Massachusetts</td>\n",
       "      <td>02035</td>\n",
       "      <td>United States</td>\n",
       "      <td>2022</td>\n",
       "      <td>1167299</td>\n",
       "      <td>Yes</td>\n",
       "      <td>2022-04-15</td>\n",
       "      <td>No Action Indicated (NAI)</td>\n",
       "      <td>Postmarket Assurance: Devices</td>\n",
       "      <td>Devices</td>\n",
       "      <td>-</td>\n",
       "      <td>Devices</td>\n",
       "      <td>21 CFR 820.198(a)</td>\n",
       "      <td>Lack of or inadequate complaint procedures</td>\n",
       "      <td>Procedures for receiving, reviewing, and evalu...</td>\n",
       "    </tr>\n",
       "    <tr>\n",
       "      <th>4</th>\n",
       "      <td>3000138835</td>\n",
       "      <td>Ten Ren Tea and Ginseng Co Inc</td>\n",
       "      <td>New York</td>\n",
       "      <td>New York</td>\n",
       "      <td>10013</td>\n",
       "      <td>United States</td>\n",
       "      <td>2022</td>\n",
       "      <td>1167517</td>\n",
       "      <td>No</td>\n",
       "      <td>2022-04-15</td>\n",
       "      <td>No Action Indicated (NAI)</td>\n",
       "      <td>Foodborne Biological Hazards</td>\n",
       "      <td>Food/Cosmetics</td>\n",
       "      <td>-</td>\n",
       "      <td>NaN</td>\n",
       "      <td>NaN</td>\n",
       "      <td>NaN</td>\n",
       "      <td>NaN</td>\n",
       "    </tr>\n",
       "  </tbody>\n",
       "</table>\n",
       "</div>"
      ],
      "text/plain": [
       "   FEI Number                      Legal Name      City          State    Zip  \\\n",
       "0  3017202975                     PAVmed Inc.   Foxboro  Massachusetts  02035   \n",
       "1  3017202975                     PAVmed Inc.   Foxboro  Massachusetts  02035   \n",
       "2  3017202975                     PAVmed Inc.   Foxboro  Massachusetts  02035   \n",
       "3  3017202975                     PAVmed Inc.   Foxboro  Massachusetts  02035   \n",
       "4  3000138835  Ten Ren Tea and Ginseng Co Inc  New York       New York  10013   \n",
       "\n",
       "    Country/Area  Fiscal Year  Inspection ID Posted Citations  \\\n",
       "0  United States         2022        1167299              Yes   \n",
       "1  United States         2022        1167299              Yes   \n",
       "2  United States         2022        1167299              Yes   \n",
       "3  United States         2022        1167299              Yes   \n",
       "4  United States         2022        1167517               No   \n",
       "\n",
       "  Inspection End Date                    Classification  \\\n",
       "0          2022-04-15  Voluntary Action Indicated (VAI)   \n",
       "1          2022-04-15  Voluntary Action Indicated (VAI)   \n",
       "2          2022-04-15         No Action Indicated (NAI)   \n",
       "3          2022-04-15         No Action Indicated (NAI)   \n",
       "4          2022-04-15         No Action Indicated (NAI)   \n",
       "\n",
       "                    Project Area    Product Type FMD-145 Date Program Area  \\\n",
       "0            Compliance: Devices         Devices            -      Devices   \n",
       "1            Compliance: Devices         Devices            -      Devices   \n",
       "2  Postmarket Assurance: Devices         Devices            -      Devices   \n",
       "3  Postmarket Assurance: Devices         Devices            -      Devices   \n",
       "4   Foodborne Biological Hazards  Food/Cosmetics            -          NaN   \n",
       "\n",
       "      Act/CFR Number                           Short Description  \\\n",
       "0  21 CFR 820.100(b)                               Documentation   \n",
       "1  21 CFR 820.198(a)  Lack of or inadequate complaint procedures   \n",
       "2  21 CFR 820.100(b)                               Documentation   \n",
       "3  21 CFR 820.198(a)  Lack of or inadequate complaint procedures   \n",
       "4                NaN                                         NaN   \n",
       "\n",
       "                                    Long Description  \n",
       "0  Corrective and preventive action activities an...  \n",
       "1  Procedures for receiving, reviewing, and evalu...  \n",
       "2  Corrective and preventive action activities an...  \n",
       "3  Procedures for receiving, reviewing, and evalu...  \n",
       "4                                                NaN  "
      ]
     },
     "execution_count": 4,
     "metadata": {},
     "output_type": "execute_result"
    }
   ],
   "source": [
    "# exploring the top 5 rows of the dataset\n",
    "data.head()"
   ]
  },
  {
   "cell_type": "code",
   "execution_count": 5,
   "metadata": {
    "colab": {
     "base_uri": "https://localhost:8080/"
    },
    "id": "GsosybkZNwA9",
    "outputId": "a1b2ec0d-a4be-42db-8a2a-23ef2b46ba54"
   },
   "outputs": [
    {
     "name": "stdout",
     "output_type": "stream",
     "text": [
      "<class 'pandas.core.frame.DataFrame'>\n",
      "Int64Index: 494304 entries, 0 to 494303\n",
      "Data columns (total 18 columns):\n",
      " #   Column               Non-Null Count   Dtype         \n",
      "---  ------               --------------   -----         \n",
      " 0   FEI Number           494304 non-null  int64         \n",
      " 1   Legal Name           494304 non-null  object        \n",
      " 2   City                 494304 non-null  object        \n",
      " 3   State                494304 non-null  object        \n",
      " 4   Zip                  494304 non-null  object        \n",
      " 5   Country/Area         494304 non-null  object        \n",
      " 6   Fiscal Year          494304 non-null  int64         \n",
      " 7   Inspection ID        494304 non-null  int64         \n",
      " 8   Posted Citations     494304 non-null  object        \n",
      " 9   Inspection End Date  494304 non-null  datetime64[ns]\n",
      " 10  Classification       494304 non-null  object        \n",
      " 11  Project Area         494304 non-null  object        \n",
      " 12  Product Type         494304 non-null  object        \n",
      " 13  FMD-145 Date         494304 non-null  object        \n",
      " 14  Program Area         313047 non-null  object        \n",
      " 15  Act/CFR Number       312848 non-null  object        \n",
      " 16  Short Description    313047 non-null  object        \n",
      " 17  Long Description     313044 non-null  object        \n",
      "dtypes: datetime64[ns](1), int64(3), object(14)\n",
      "memory usage: 71.7+ MB\n"
     ]
    }
   ],
   "source": [
    "# exploring the data-types of the dataset\n",
    "data.info()"
   ]
  },
  {
   "cell_type": "markdown",
   "metadata": {
    "id": "d_QTCttqXwBA"
   },
   "source": [
    "**Data Cleaning - Inspection of Missing Values & Treatment**"
   ]
  },
  {
   "cell_type": "code",
   "execution_count": 6,
   "metadata": {
    "colab": {
     "base_uri": "https://localhost:8080/"
    },
    "id": "2KKf1txZD6cl",
    "outputId": "f1ae7c3a-a1f0-4269-f253-9abdf314e2eb"
   },
   "outputs": [
    {
     "data": {
      "text/plain": [
       "FEI Number              0.000000\n",
       "Legal Name              0.000000\n",
       "City                    0.000000\n",
       "State                   0.000000\n",
       "Zip                     0.000000\n",
       "Country/Area            0.000000\n",
       "Fiscal Year             0.000000\n",
       "Inspection ID           0.000000\n",
       "Posted Citations        0.000000\n",
       "Inspection End Date     0.000000\n",
       "Classification          0.000000\n",
       "Project Area            0.000000\n",
       "Product Type            0.000000\n",
       "FMD-145 Date            0.000000\n",
       "Program Area           36.669135\n",
       "Act/CFR Number         36.709393\n",
       "Short Description      36.669135\n",
       "Long Description       36.669742\n",
       "dtype: float64"
      ]
     },
     "execution_count": 6,
     "metadata": {},
     "output_type": "execute_result"
    }
   ],
   "source": [
    "(data.isnull().sum(axis = 0)*100)/data.shape[0]"
   ]
  },
  {
   "cell_type": "markdown",
   "metadata": {},
   "source": [
    "**Dropping the columns with missing values as the threshold for missing values used in this analysis is 35%**"
   ]
  },
  {
   "cell_type": "code",
   "execution_count": 7,
   "metadata": {
    "id": "JvmclTITEX_5"
   },
   "outputs": [],
   "source": [
    "# dropping the columns with missing values\n",
    "final_df = data.drop(['Program Area', 'Act/CFR Number', 'Short Description', 'Long Description'], axis = 1)"
   ]
  },
  {
   "cell_type": "markdown",
   "metadata": {
    "id": "zdO3uJHia7fQ"
   },
   "source": [
    "## Exploratory Data Analysis"
   ]
  },
  {
   "cell_type": "code",
   "execution_count": 8,
   "metadata": {
    "colab": {
     "base_uri": "https://localhost:8080/",
     "height": 497
    },
    "id": "tZnipNaFE2Rk",
    "outputId": "8f97a1f4-2bf3-46ad-c48a-35942ca01b1d"
   },
   "outputs": [
    {
     "data": {
      "image/png": "[encoded data removed]",
      "text/plain": [
       "<Figure size 1080x576 with 1 Axes>"
      ]
     },
     "metadata": {
      "needs_background": "light"
     },
     "output_type": "display_data"
    }
   ],
   "source": [
    "# number of inspections per year (from 2009-2022)\n",
    "\n",
    "inspections_final_df = pd.DataFrame(final_df.groupby('Fiscal Year')['Inspection ID'].count()).reset_index()\n",
    "inspections_final_df.rename({'Inspection ID' : 'Count'}, axis = 1, inplace = True)\n",
    "\n",
    "plt.figure(figsize = (15, 8))\n",
    "sns.lineplot(x = 'Fiscal Year', y = 'Count', data = inspections_final_df)\n",
    "plt.xlabel('Number of Inspections')\n",
    "plt.xticks([year for year in range(min(final_df['Fiscal Year']), max(final_df['Fiscal Year']) + 1)])\n",
    "plt.show()"
   ]
  },
  {
   "cell_type": "markdown",
   "metadata": {
    "id": "fiHwB95GGLQR"
   },
   "source": [
    "*In the year, 2011, there has been the maximum number of inspections*"
   ]
  },
  {
   "cell_type": "code",
   "execution_count": 9,
   "metadata": {
    "colab": {
     "base_uri": "https://localhost:8080/",
     "height": 497
    },
    "id": "TcJRIHNREsjR",
    "outputId": "fdf79575-554c-43f6-ece4-15376a331d55"
   },
   "outputs": [
    {
     "data": {
      "image/png": "[encoded data removed]",
      "text/plain": [
       "<Figure size 1080x576 with 1 Axes>"
      ]
     },
     "metadata": {
      "needs_background": "light"
     },
     "output_type": "display_data"
    }
   ],
   "source": [
    "# count distribution of citations posted: 'Yes' or 'No'\n",
    "plt.figure(figsize = (15, 8))\n",
    "sns.countplot(x = 'Posted Citations', data = data)\n",
    "plt.show()"
   ]
  },
  {
   "cell_type": "markdown",
   "metadata": {
    "id": "mg9zRtReJqIn"
   },
   "source": [
    "*Most of the cases have citations being posted*"
   ]
  },
  {
   "cell_type": "code",
   "execution_count": 10,
   "metadata": {
    "colab": {
     "base_uri": "https://localhost:8080/",
     "height": 479
    },
    "id": "caXoRzAu8iDg",
    "outputId": "600f3adc-73f2-4dff-b820-b6213f9f833c"
   },
   "outputs": [
    {
     "data": {
      "image/png": "[encoded data removed]",
      "text/plain": [
       "<Figure size 1080x576 with 1 Axes>"
      ]
     },
     "metadata": {},
     "output_type": "display_data"
    }
   ],
   "source": [
    "classification_df = pd.DataFrame(data.groupby('Classification')['Inspection ID'].count()).reset_index()\n",
    "classification_df.rename({'Inspection ID' : 'Count'}, axis = 1, inplace = True)\n",
    "\n",
    "plt.figure(figsize = (15, 8))\n",
    "plt.pie(classification_df['Count'], labels = classification_df['Classification'], \n",
    "        autopct='%1.1f%%', explode = [0, 0, 0.2], shadow = True)\n",
    "plt.show()"
   ]
  },
  {
   "cell_type": "markdown",
   "metadata": {
    "id": "hb5J8eMO_J7o"
   },
   "source": [
    "*Most of the cases are classified as Voluntary Action Indicated (VAI)*"
   ]
  },
  {
   "cell_type": "markdown",
   "metadata": {},
   "source": [
    "## Questions:"
   ]
  },
  {
   "cell_type": "markdown",
   "metadata": {},
   "source": [
    " **Q1) Does the classification type being VAI affect the decision of citation being posted significantly?**"
   ]
  },
  {
   "cell_type": "code",
   "execution_count": 11,
   "metadata": {
    "colab": {
     "base_uri": "https://localhost:8080/",
     "height": 497
    },
    "id": "YHzgtwLJATfs",
    "outputId": "35b5d12a-ba7e-4243-f71d-27e0bf2b88b6"
   },
   "outputs": [
    {
     "data": {
      "image/png": "[encoded data removed]",
      "text/plain": [
       "<Figure size 1080x576 with 1 Axes>"
      ]
     },
     "metadata": {
      "needs_background": "light"
     },
     "output_type": "display_data"
    }
   ],
   "source": [
    "# relationship between classification type and whether citation being posted or not\n",
    "citations_classfication = pd.DataFrame(data.groupby(['Classification', 'Posted Citations'])['Inspection ID'].count()).reset_index()\n",
    "citations_classfication.rename({'Inspection ID' : 'Count'}, axis = 1, inplace = True)\n",
    "\n",
    "plt.figure(figsize = (15, 8))\n",
    "sns.barplot(x = 'Classification', y = 'Count', hue = 'Posted Citations', data = citations_classfication)\n",
    "plt.show()"
   ]
  },
  {
   "cell_type": "markdown",
   "metadata": {
    "id": "rMNCT-dls9i0"
   },
   "source": [
    "**Answer:**\n",
    "\n",
    "*YES*\n",
    "\n",
    "*For cases classified as No Action Indicated (NAI), majority of the cases have no citations posted*\n",
    "\n",
    "*On the other hand, cases classified as Official Action Indicated (OAI) and Voluntary Action Indicated (VAI), majority of the cases have citations being posted*\n",
    "\n"
   ]
  },
  {
   "cell_type": "markdown",
   "metadata": {},
   "source": [
    "**Q2) How does product type being Food/Cosmetics impact the citation posting?**"
   ]
  },
  {
   "cell_type": "code",
   "execution_count": 12,
   "metadata": {
    "colab": {
     "base_uri": "https://localhost:8080/",
     "height": 497
    },
    "id": "m3bGJsr9_b9v",
    "outputId": "af42bb1e-0dfd-459f-998b-cddfdd810ccc"
   },
   "outputs": [
    {
     "data": {
      "image/png": "[encoded data removed]",
      "text/plain": [
       "<Figure size 1080x576 with 1 Axes>"
      ]
     },
     "metadata": {
      "needs_background": "light"
     },
     "output_type": "display_data"
    }
   ],
   "source": [
    "product_df = pd.DataFrame(data.groupby('Product Type')['Inspection ID'].count()).reset_index()\n",
    "product_df.rename({'Inspection ID' : 'Count'}, axis = 1, inplace = True)\n",
    "\n",
    "plt.figure(figsize = (15, 8))\n",
    "sns.scatterplot(x = 'Product Type', y = 'Count', data = product_df)\n",
    "plt.show()"
   ]
  },
  {
   "cell_type": "markdown",
   "metadata": {
    "id": "jvf8VZ92_58x"
   },
   "source": [
    "**Answer:**\n",
    "\n",
    "*YES*\n",
    "\n",
    "*Most of the cases are based out of Food/Cosmetics based Products whereas very few cases involve Tobacco products*"
   ]
  },
  {
   "cell_type": "markdown",
   "metadata": {},
   "source": [
    "**Q3) Does maximum products that are Devices being posted a citation?**"
   ]
  },
  {
   "cell_type": "code",
   "execution_count": 13,
   "metadata": {
    "colab": {
     "base_uri": "https://localhost:8080/",
     "height": 497
    },
    "id": "4hQEszlRCnBM",
    "outputId": "beb891e3-3f7d-4f3c-87ea-bd4dd60cc5ad"
   },
   "outputs": [
    {
     "data": {
      "image/png": "[encoded data removed]",
      "text/plain": [
       "<Figure size 1080x576 with 1 Axes>"
      ]
     },
     "metadata": {
      "needs_background": "light"
     },
     "output_type": "display_data"
    }
   ],
   "source": [
    "# relationship between product type and whether citation being posted or not\n",
    "citations_producttype = pd.DataFrame(data.groupby(['Product Type', 'Posted Citations'])['Inspection ID'].count()).reset_index()\n",
    "citations_producttype.rename({'Inspection ID' : 'Count'}, axis = 1, inplace = True)\n",
    "\n",
    "plt.figure(figsize = (15, 8))\n",
    "sns.lineplot(x = 'Product Type', y = 'Count', hue = 'Posted Citations', data = citations_producttype)\n",
    "sns.scatterplot(x = 'Product Type', y = 'Count', hue = 'Posted Citations', data = citations_producttype)\n",
    "plt.show()"
   ]
  },
  {
   "cell_type": "markdown",
   "metadata": {
    "id": "EyfQ6SvSd9qJ"
   },
   "source": [
    "**Answer:**\n",
    "\n",
    "*NO*\n",
    "\n",
    "Food/Cosmetics has the majority citations posted\n",
    "\n",
    "1.   For Biologics based product, majority of the cases do not have citations being posted.\n",
    "2.   For Devices, Drugs and Food/Cosmetics based product, majority of the cases have citations being posted.\n",
    "3.   For Tobacco based products, almost equal number of cases have citations posted.\n",
    "4.   For Veterinary based products, slightly higher number cases do not have citations being posted.\n",
    "\n"
   ]
  },
  {
   "cell_type": "markdown",
   "metadata": {
    "id": "FLlugaZvfk6U"
   },
   "source": [
    "### Data Preprocessing"
   ]
  },
  {
   "cell_type": "code",
   "execution_count": 14,
   "metadata": {
    "id": "vNfhni8Qv_N-"
   },
   "outputs": [],
   "source": [
    "# selecting the 3 varibles: Classification, Product Type and Posted Citations\n",
    "df_selected = data[['Classification', 'Product Type', 'Posted Citations']]\n",
    "\n",
    "# creating dummy variables for categorical variables, Classification and Product Type\n",
    "df_selected = pd.get_dummies(df_selected, columns=['Classification', 'Product Type'], drop_first=True)\n",
    "\n",
    "# converting the target variable (Posted Citations) into numeric i.e., 'Yes' -> 1, 'No' -> 0\n",
    "df_selected['Posted Citations'] = df_selected['Posted Citations'].map({'No': 0, 'Yes': 1})"
   ]
  },
  {
   "cell_type": "markdown",
   "metadata": {
    "id": "fP36tcPvHdzi"
   },
   "source": [
    "## Hypothesis\n",
    "\n",
    "### 1st Hypothesis\n",
    "\n",
    "**Null Hypothesis**: *Citation Posting does NOT depend significantly on Classification being Voluntary Action Indicated (VAI)*\n",
    "\n",
    "**Alternate Hypothesis**: *Citation Posting does depend significantly on Classification being Voluntary Action Indicated (VAI)*\n",
    "\n",
    "*The Hypothesis Testing is done by applying z-test (with 5% Significance Level) on the Logistic Regression estimated feature coefficients for predicting whether Citations have been posted, given the Classification type being VAI*"
   ]
  },
  {
   "cell_type": "code",
   "execution_count": 15,
   "metadata": {
    "colab": {
     "base_uri": "https://localhost:8080/"
    },
    "id": "fGoerUz6NPPK",
    "outputId": "40dcf862-a45c-406b-db88-a5674940f03a"
   },
   "outputs": [
    {
     "name": "stdout",
     "output_type": "stream",
     "text": [
      "                 Generalized Linear Model Regression Results                  \n",
      "==============================================================================\n",
      "Dep. Variable:       Posted Citations   No. Observations:               494304\n",
      "Model:                            GLM   Df Residuals:                   494302\n",
      "Model Family:                Binomial   Df Model:                            1\n",
      "Link Function:                  logit   Scale:                          1.0000\n",
      "Method:                          IRLS   Log-Likelihood:            -2.5012e+05\n",
      "Date:                Sun, 16 Oct 2022   Deviance:                   5.0024e+05\n",
      "Time:                        10:29:13   Pearson chi2:                 4.94e+05\n",
      "No. Iterations:                     5                                         \n",
      "Covariance Type:            nonrobust                                         \n",
      "===================================================================================================================\n",
      "                                                      coef    std err          z      P>|z|      [0.025      0.975]\n",
      "-------------------------------------------------------------------------------------------------------------------\n",
      "const                                              -0.4690      0.004   -114.835      0.000      -0.477      -0.461\n",
      "Classification_Voluntary Action Indicated (VAI)     2.6037      0.008    334.655      0.000       2.588       2.619\n",
      "===================================================================================================================\n"
     ]
    }
   ],
   "source": [
    "# executing the logistic regression model\n",
    "y_train = df_selected['Posted Citations']\n",
    "X_train = df_selected['Classification_Voluntary Action Indicated (VAI)']\n",
    "\n",
    "lr_model = sm.GLM(y_train, sm.add_constant(X_train), family = sm.families.Binomial()).fit()\n",
    "print(lr_model.summary())"
   ]
  },
  {
   "cell_type": "markdown",
   "metadata": {
    "id": "cVF9-2mhkr-S"
   },
   "source": [
    "\n",
    "\n",
    "\n",
    "The p-Value associated with the coefficient of the dummy variable, **Classification_Voluntary Action Indicated (VAI)** of Classification is 0, which is less than 0.05, hence, citation being posted or not SIGNIFICANTLY depends on the Classification type being VAI or not. (*Null Hypothesis rejected at 5% Significance*)\n",
    "\n"
   ]
  },
  {
   "cell_type": "markdown",
   "metadata": {
    "id": "5jgbUuyJB_2a"
   },
   "source": [
    "### 2nd Hypothesis\n",
    "\n",
    "**Null Hypothesis**: *Citation Posting does NOT depend significantly on Product Type being Food/Cosmetics*\n",
    "\n",
    "**Alternate Hypothesis**: *Citation Posting does depend significantly on Product Type being Food/Cosmetics*\n"
   ]
  },
  {
   "cell_type": "markdown",
   "metadata": {
    "id": "2UFgVmdgC5gB"
   },
   "source": [
    "*The Hypothesis Testing is done by applying z-test (with 5% Significance Level) on the Logistic Regression estimated feature coefficients for predicting whether Citations have been posted, given the Product Type type being Food/Cosmetics*"
   ]
  },
  {
   "cell_type": "code",
   "execution_count": 16,
   "metadata": {
    "colab": {
     "base_uri": "https://localhost:8080/"
    },
    "id": "vqI4NxVUC3js",
    "outputId": "e634304e-7616-4f03-d547-99ed2ca294ee"
   },
   "outputs": [
    {
     "name": "stdout",
     "output_type": "stream",
     "text": [
      "                 Generalized Linear Model Regression Results                  \n",
      "==============================================================================\n",
      "Dep. Variable:       Posted Citations   No. Observations:               494304\n",
      "Model:                            GLM   Df Residuals:                   494302\n",
      "Model Family:                Binomial   Df Model:                            1\n",
      "Link Function:                  logit   Scale:                          1.0000\n",
      "Method:                          IRLS   Log-Likelihood:            -3.2481e+05\n",
      "Date:                Sun, 16 Oct 2022   Deviance:                   6.4963e+05\n",
      "Time:                        10:29:14   Pearson chi2:                 4.94e+05\n",
      "No. Iterations:                     5                                         \n",
      "Covariance Type:            nonrobust                                         \n",
      "===============================================================================================\n",
      "                                  coef    std err          z      P>|z|      [0.025      0.975]\n",
      "-----------------------------------------------------------------------------------------------\n",
      "const                           0.5224      0.004    119.684      0.000       0.514       0.531\n",
      "Product Type_Food/Cosmetics     0.0442      0.006      7.458      0.000       0.033       0.056\n",
      "===============================================================================================\n"
     ]
    }
   ],
   "source": [
    "# executing the logistic regression model\n",
    "y_train = df_selected['Posted Citations']\n",
    "X_train = df_selected['Product Type_Food/Cosmetics']\n",
    "\n",
    "lr_model = sm.GLM(y_train, sm.add_constant(X_train), family = sm.families.Binomial()).fit()\n",
    "print(lr_model.summary())"
   ]
  },
  {
   "cell_type": "markdown",
   "metadata": {
    "id": "_-lIHMnsDnFI"
   },
   "source": [
    "The p-Value associated with the coefficient of the dummy variable, **Product Type_Food/Cosmetics** of Classification is 0, which is less than 0.05, hence, citation being posted or not SIGNIFICANTLY depends on the Product Type being Food/Cosmetics or not. (*Null Hypothesis rejected at 5% Significance*)"
   ]
  },
  {
   "cell_type": "markdown",
   "metadata": {
    "id": "z46622xIED83"
   },
   "source": [
    "### 3rd Hypothesis\n",
    "\n",
    "**Null Hypothesis**: *Citation Posting does NOT depend significantly on Product Type being Devices*\n",
    "\n",
    "**Alternate Hypothesis**: *Citation Posting does depend significantly on Product Type being Devices*\n"
   ]
  },
  {
   "cell_type": "markdown",
   "metadata": {
    "id": "PQ2zZNXlEUFY"
   },
   "source": [
    "*The Hypothesis Testing is done by applying z-test (with 5% Significance Level) on the Logistic Regression estimated feature coefficients for predicting whether Citations have been posted, given the Product Type type being Devices*"
   ]
  },
  {
   "cell_type": "code",
   "execution_count": 17,
   "metadata": {
    "colab": {
     "base_uri": "https://localhost:8080/"
    },
    "id": "1mxyHbDgEDig",
    "outputId": "5cedf5b5-2d8c-4476-8ce5-a7d71b04c089"
   },
   "outputs": [
    {
     "name": "stdout",
     "output_type": "stream",
     "text": [
      "                 Generalized Linear Model Regression Results                  \n",
      "==============================================================================\n",
      "Dep. Variable:       Posted Citations   No. Observations:               494304\n",
      "Model:                            GLM   Df Residuals:                   494302\n",
      "Model Family:                Binomial   Df Model:                            1\n",
      "Link Function:                  logit   Scale:                          1.0000\n",
      "Method:                          IRLS   Log-Likelihood:            -3.1983e+05\n",
      "Date:                Sun, 16 Oct 2022   Deviance:                   6.3966e+05\n",
      "Time:                        10:29:14   Pearson chi2:                 4.94e+05\n",
      "No. Iterations:                     5                                         \n",
      "Covariance Type:            nonrobust                                         \n",
      "========================================================================================\n",
      "                           coef    std err          z      P>|z|      [0.025      0.975]\n",
      "----------------------------------------------------------------------------------------\n",
      "const                    0.4060      0.003    125.246      0.000       0.400       0.412\n",
      "Product Type_Devices     0.7898      0.008     95.880      0.000       0.774       0.806\n",
      "========================================================================================\n"
     ]
    }
   ],
   "source": [
    "# executing the logistic regression model\n",
    "y_train = df_selected['Posted Citations']\n",
    "X_train = df_selected['Product Type_Devices']\n",
    "\n",
    "lr_model = sm.GLM(y_train, sm.add_constant(X_train), family = sm.families.Binomial()).fit()\n",
    "print(lr_model.summary())"
   ]
  },
  {
   "cell_type": "markdown",
   "metadata": {
    "id": "qtaism1qEc_R"
   },
   "source": [
    "The p-Value associated with the coefficient of the dummy variable, **Product Type_Devices** of Classification is 0, which is less than 0.05, hence, citation being posted or not SIGNIFICANTLY depends on the Product Type being Devices or not. (*Null Hypothesis rejected at 5% Significance*)"
   ]
  }
 ],
 "metadata": {
  "colab": {
   "collapsed_sections": [],
   "name": "Task_Analytics_updated_questions.ipynb",
   "provenance": []
  },
  "kernelspec": {
   "display_name": "Python 3 (ipykernel)",
   "language": "python",
   "name": "python3"
  },
  "language_info": {
   "codemirror_mode": {
    "name": "ipython",
    "version": 3
   },
   "file_extension": ".py",
   "mimetype": "text/x-python",
   "name": "python",
   "nbconvert_exporter": "python",
   "pygments_lexer": "ipython3",
   "version": "3.9.7"
  }
 },
 "nbformat": 4,
 "nbformat_minor": 1
}
